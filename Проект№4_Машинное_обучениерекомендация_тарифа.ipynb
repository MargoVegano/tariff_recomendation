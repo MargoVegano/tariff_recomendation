{
 "cells": [
  {
   "cell_type": "markdown",
   "metadata": {},
   "source": [
    "# Рекомендация тарифов"
   ]
  },
  {
   "cell_type": "markdown",
   "metadata": {},
   "source": [
    "В вашем распоряжении данные о поведении клиентов, которые уже перешли на эти тарифы (из проекта курса «Статистический анализ данных»). Нужно построить модель для задачи классификации, которая выберет подходящий тариф. Предобработка данных не понадобится — вы её уже сделали.\n",
    "\n",
    "Постройте модель с максимально большим значением *accuracy*. Чтобы сдать проект успешно, нужно довести долю правильных ответов по крайней мере до 0.75. Проверьте *accuracy* на тестовой выборке самостоятельно."
   ]
  },
  {
   "cell_type": "markdown",
   "metadata": {},
   "source": [
    "## Откройте и изучите файл"
   ]
  },
  {
   "cell_type": "code",
   "execution_count": 189,
   "metadata": {},
   "outputs": [],
   "source": [
    "#импортируем все необходимые для работы библиотеки, а также функции и модели для задачи классификации\n",
    "\n",
    "import pandas as pd\n",
    "\n",
    "from sklearn.model_selection import train_test_split\n",
    "from sklearn.tree import DecisionTreeClassifier\n",
    "from sklearn.linear_model import LogisticRegression\n",
    "from sklearn.ensemble import RandomForestClassifier\n",
    "from sklearn.metrics import accuracy_score\n",
    "from sklearn.dummy import DummyClassifier\n",
    "from sklearn.tree import plot_tree\n",
    "from sklearn.metrics import precision_score\n",
    "from sklearn.metrics import recall_score\n",
    "\n",
    "import matplotlib.pyplot as plt "
   ]
  },
  {
   "cell_type": "code",
   "execution_count": 190,
   "metadata": {},
   "outputs": [
    {
     "data": {
      "text/html": [
       "<div>\n",
       "<style scoped>\n",
       "    .dataframe tbody tr th:only-of-type {\n",
       "        vertical-align: middle;\n",
       "    }\n",
       "\n",
       "    .dataframe tbody tr th {\n",
       "        vertical-align: top;\n",
       "    }\n",
       "\n",
       "    .dataframe thead th {\n",
       "        text-align: right;\n",
       "    }\n",
       "</style>\n",
       "<table border=\"1\" class=\"dataframe\">\n",
       "  <thead>\n",
       "    <tr style=\"text-align: right;\">\n",
       "      <th></th>\n",
       "      <th>calls</th>\n",
       "      <th>minutes</th>\n",
       "      <th>messages</th>\n",
       "      <th>mb_used</th>\n",
       "      <th>is_ultra</th>\n",
       "    </tr>\n",
       "  </thead>\n",
       "  <tbody>\n",
       "    <tr>\n",
       "      <th>0</th>\n",
       "      <td>40.0</td>\n",
       "      <td>311.90</td>\n",
       "      <td>83.0</td>\n",
       "      <td>19915.42</td>\n",
       "      <td>0</td>\n",
       "    </tr>\n",
       "    <tr>\n",
       "      <th>1</th>\n",
       "      <td>85.0</td>\n",
       "      <td>516.75</td>\n",
       "      <td>56.0</td>\n",
       "      <td>22696.96</td>\n",
       "      <td>0</td>\n",
       "    </tr>\n",
       "    <tr>\n",
       "      <th>2</th>\n",
       "      <td>77.0</td>\n",
       "      <td>467.66</td>\n",
       "      <td>86.0</td>\n",
       "      <td>21060.45</td>\n",
       "      <td>0</td>\n",
       "    </tr>\n",
       "    <tr>\n",
       "      <th>3</th>\n",
       "      <td>106.0</td>\n",
       "      <td>745.53</td>\n",
       "      <td>81.0</td>\n",
       "      <td>8437.39</td>\n",
       "      <td>1</td>\n",
       "    </tr>\n",
       "    <tr>\n",
       "      <th>4</th>\n",
       "      <td>66.0</td>\n",
       "      <td>418.74</td>\n",
       "      <td>1.0</td>\n",
       "      <td>14502.75</td>\n",
       "      <td>0</td>\n",
       "    </tr>\n",
       "    <tr>\n",
       "      <th>5</th>\n",
       "      <td>58.0</td>\n",
       "      <td>344.56</td>\n",
       "      <td>21.0</td>\n",
       "      <td>15823.37</td>\n",
       "      <td>0</td>\n",
       "    </tr>\n",
       "    <tr>\n",
       "      <th>6</th>\n",
       "      <td>57.0</td>\n",
       "      <td>431.64</td>\n",
       "      <td>20.0</td>\n",
       "      <td>3738.90</td>\n",
       "      <td>1</td>\n",
       "    </tr>\n",
       "    <tr>\n",
       "      <th>7</th>\n",
       "      <td>15.0</td>\n",
       "      <td>132.40</td>\n",
       "      <td>6.0</td>\n",
       "      <td>21911.60</td>\n",
       "      <td>0</td>\n",
       "    </tr>\n",
       "    <tr>\n",
       "      <th>8</th>\n",
       "      <td>7.0</td>\n",
       "      <td>43.39</td>\n",
       "      <td>3.0</td>\n",
       "      <td>2538.67</td>\n",
       "      <td>1</td>\n",
       "    </tr>\n",
       "    <tr>\n",
       "      <th>9</th>\n",
       "      <td>90.0</td>\n",
       "      <td>665.41</td>\n",
       "      <td>38.0</td>\n",
       "      <td>17358.61</td>\n",
       "      <td>0</td>\n",
       "    </tr>\n",
       "  </tbody>\n",
       "</table>\n",
       "</div>"
      ],
      "text/plain": [
       "   calls  minutes  messages   mb_used  is_ultra\n",
       "0   40.0   311.90      83.0  19915.42         0\n",
       "1   85.0   516.75      56.0  22696.96         0\n",
       "2   77.0   467.66      86.0  21060.45         0\n",
       "3  106.0   745.53      81.0   8437.39         1\n",
       "4   66.0   418.74       1.0  14502.75         0\n",
       "5   58.0   344.56      21.0  15823.37         0\n",
       "6   57.0   431.64      20.0   3738.90         1\n",
       "7   15.0   132.40       6.0  21911.60         0\n",
       "8    7.0    43.39       3.0   2538.67         1\n",
       "9   90.0   665.41      38.0  17358.61         0"
      ]
     },
     "execution_count": 190,
     "metadata": {},
     "output_type": "execute_result"
    }
   ],
   "source": [
    "#откроем и изучим файл\n",
    "\n",
    "data = pd.read_csv('/datasets/users_behavior.csv')\n",
    "data.head(10)"
   ]
  },
  {
   "cell_type": "markdown",
   "metadata": {},
   "source": [
    "Где для каждого пользователя (объекта):\n",
    "- сalls — количество звонков,\n",
    "- minutes — суммарная длительность звонков в минутах,\n",
    "- messages — количество sms-сообщений,\n",
    "- mb_used — израсходованный интернет-трафик в Мб,\n",
    "- is_ultra — каким тарифом пользовался в течение месяца («Ультра» — 1, «Смарт» — 0)."
   ]
  },
  {
   "cell_type": "code",
   "execution_count": 191,
   "metadata": {},
   "outputs": [
    {
     "name": "stdout",
     "output_type": "stream",
     "text": [
      "<class 'pandas.core.frame.DataFrame'>\n",
      "RangeIndex: 3214 entries, 0 to 3213\n",
      "Data columns (total 5 columns):\n",
      " #   Column    Non-Null Count  Dtype  \n",
      "---  ------    --------------  -----  \n",
      " 0   calls     3214 non-null   float64\n",
      " 1   minutes   3214 non-null   float64\n",
      " 2   messages  3214 non-null   float64\n",
      " 3   mb_used   3214 non-null   float64\n",
      " 4   is_ultra  3214 non-null   int64  \n",
      "dtypes: float64(4), int64(1)\n",
      "memory usage: 125.7 KB\n"
     ]
    }
   ],
   "source": [
    "data.info() #посмотрим на заполненность таблицы и верные ли типы данных"
   ]
  },
  {
   "cell_type": "markdown",
   "metadata": {},
   "source": [
    "Пропусков нет, но для столбцов `messages` и `calls` будет корректным установить тип int."
   ]
  },
  {
   "cell_type": "code",
   "execution_count": 192,
   "metadata": {},
   "outputs": [],
   "source": [
    "data['messages'] = data['messages'].astype('int')\n",
    "data['calls'] = data['calls'].astype('int')"
   ]
  },
  {
   "cell_type": "code",
   "execution_count": 193,
   "metadata": {},
   "outputs": [
    {
     "data": {
      "text/html": [
       "<div>\n",
       "<style scoped>\n",
       "    .dataframe tbody tr th:only-of-type {\n",
       "        vertical-align: middle;\n",
       "    }\n",
       "\n",
       "    .dataframe tbody tr th {\n",
       "        vertical-align: top;\n",
       "    }\n",
       "\n",
       "    .dataframe thead th {\n",
       "        text-align: right;\n",
       "    }\n",
       "</style>\n",
       "<table border=\"1\" class=\"dataframe\">\n",
       "  <thead>\n",
       "    <tr style=\"text-align: right;\">\n",
       "      <th></th>\n",
       "      <th>calls</th>\n",
       "      <th>minutes</th>\n",
       "      <th>messages</th>\n",
       "      <th>mb_used</th>\n",
       "      <th>is_ultra</th>\n",
       "    </tr>\n",
       "  </thead>\n",
       "  <tbody>\n",
       "    <tr>\n",
       "      <th>count</th>\n",
       "      <td>3214.000000</td>\n",
       "      <td>3214.000000</td>\n",
       "      <td>3214.000000</td>\n",
       "      <td>3214.000000</td>\n",
       "      <td>3214.000000</td>\n",
       "    </tr>\n",
       "    <tr>\n",
       "      <th>mean</th>\n",
       "      <td>63.038892</td>\n",
       "      <td>438.208787</td>\n",
       "      <td>38.281269</td>\n",
       "      <td>17207.673836</td>\n",
       "      <td>0.306472</td>\n",
       "    </tr>\n",
       "    <tr>\n",
       "      <th>std</th>\n",
       "      <td>33.236368</td>\n",
       "      <td>234.569872</td>\n",
       "      <td>36.148326</td>\n",
       "      <td>7570.968246</td>\n",
       "      <td>0.461100</td>\n",
       "    </tr>\n",
       "    <tr>\n",
       "      <th>min</th>\n",
       "      <td>0.000000</td>\n",
       "      <td>0.000000</td>\n",
       "      <td>0.000000</td>\n",
       "      <td>0.000000</td>\n",
       "      <td>0.000000</td>\n",
       "    </tr>\n",
       "    <tr>\n",
       "      <th>25%</th>\n",
       "      <td>40.000000</td>\n",
       "      <td>274.575000</td>\n",
       "      <td>9.000000</td>\n",
       "      <td>12491.902500</td>\n",
       "      <td>0.000000</td>\n",
       "    </tr>\n",
       "    <tr>\n",
       "      <th>50%</th>\n",
       "      <td>62.000000</td>\n",
       "      <td>430.600000</td>\n",
       "      <td>30.000000</td>\n",
       "      <td>16943.235000</td>\n",
       "      <td>0.000000</td>\n",
       "    </tr>\n",
       "    <tr>\n",
       "      <th>75%</th>\n",
       "      <td>82.000000</td>\n",
       "      <td>571.927500</td>\n",
       "      <td>57.000000</td>\n",
       "      <td>21424.700000</td>\n",
       "      <td>1.000000</td>\n",
       "    </tr>\n",
       "    <tr>\n",
       "      <th>max</th>\n",
       "      <td>244.000000</td>\n",
       "      <td>1632.060000</td>\n",
       "      <td>224.000000</td>\n",
       "      <td>49745.730000</td>\n",
       "      <td>1.000000</td>\n",
       "    </tr>\n",
       "  </tbody>\n",
       "</table>\n",
       "</div>"
      ],
      "text/plain": [
       "             calls      minutes     messages       mb_used     is_ultra\n",
       "count  3214.000000  3214.000000  3214.000000   3214.000000  3214.000000\n",
       "mean     63.038892   438.208787    38.281269  17207.673836     0.306472\n",
       "std      33.236368   234.569872    36.148326   7570.968246     0.461100\n",
       "min       0.000000     0.000000     0.000000      0.000000     0.000000\n",
       "25%      40.000000   274.575000     9.000000  12491.902500     0.000000\n",
       "50%      62.000000   430.600000    30.000000  16943.235000     0.000000\n",
       "75%      82.000000   571.927500    57.000000  21424.700000     1.000000\n",
       "max     244.000000  1632.060000   224.000000  49745.730000     1.000000"
      ]
     },
     "execution_count": 193,
     "metadata": {},
     "output_type": "execute_result"
    }
   ],
   "source": [
    "data.describe() #посмотрим на средний профиль"
   ]
  },
  {
   "cell_type": "markdown",
   "metadata": {},
   "source": [
    "По медиане можно сделать вывод, что средний клиент совершает в месяц 62 звонка, звонков на 430 минут, отправляет 30 смс и использует около 17 Гб интернет-трафика. "
   ]
  },
  {
   "cell_type": "code",
   "execution_count": 194,
   "metadata": {},
   "outputs": [
    {
     "data": {
      "text/plain": [
       "Text(0.5, 1.0, 'Распределение использованного трафика')"
      ]
     },
     "execution_count": 194,
     "metadata": {},
     "output_type": "execute_result"
    },
    {
     "data": {
      "image/png": "[encoded data removed]",
      "text/plain": [
       "<Figure size 1440x720 with 4 Axes>"
      ]
     },
     "metadata": {
      "needs_background": "light"
     },
     "output_type": "display_data"
    }
   ],
   "source": [
    "fig, axs = plt.subplots(nrows=2, ncols=2, figsize=(20, 10))\n",
    "\n",
    "axs[0,0].hist(data['calls'])\n",
    "axs[0,0].set_title('Распределение количества звонков')\n",
    "axs[0,1].hist(data['minutes'])\n",
    "axs[0,1].set_title('Распределение количества минут')\n",
    "axs[1,0].hist(data['messages'])\n",
    "axs[1,0].set_title('Распределение количества смс')\n",
    "axs[1,1].hist(data['mb_used'])\n",
    "axs[1,1].set_title('Распределение использованного трафика')"
   ]
  },
  {
   "cell_type": "markdown",
   "metadata": {},
   "source": [
    "По графикам видно, что у звонков, минут и интернет-трафика нормальные распределения. У смс ожидаемый скос влево, так как уже довольно давно люди отказались от смс в пользу мессенджеров."
   ]
  },
  {
   "cell_type": "markdown",
   "metadata": {},
   "source": [
    "## Разбейте данные на выборки"
   ]
  },
  {
   "cell_type": "code",
   "execution_count": 195,
   "metadata": {},
   "outputs": [
    {
     "name": "stdout",
     "output_type": "stream",
     "text": [
      "(1928, 5)\n",
      "(643, 5)\n",
      "(643, 5)\n"
     ]
    }
   ],
   "source": [
    "#нам нужно разбить данные на 3 выборки в соотношении 3 : 1 : 1 \n",
    "#(60 % - обучающая выборка, 20 % - валидационная выборка, 20 % - тестовая выборка)\n",
    "\n",
    "data_train, data_valid_test = train_test_split(data, test_size=0.4, random_state=12345) \n",
    "data_valid, data_test = train_test_split(data_valid_test, test_size=0.5, random_state=12345)\n",
    "\n",
    "print(data_train.shape)\n",
    "print(data_test.shape)\n",
    "print(data_valid.shape)"
   ]
  },
  {
   "cell_type": "code",
   "execution_count": 196,
   "metadata": {},
   "outputs": [],
   "source": [
    "#теперь для каждой из выборок выделим признаки и целевой признак (features, target)\n",
    "#целевой признак - тариф (столбец 'is_ultra')\n",
    "\n",
    "features_train = data_train.drop('is_ultra', axis=1)\n",
    "target_train = data_train['is_ultra']\n",
    "\n",
    "features_valid = data_valid.drop('is_ultra', axis=1)\n",
    "target_valid = data_valid['is_ultra']\n",
    "\n",
    "features_test = data_test.drop('is_ultra', axis=1)\n",
    "target_test = data_test['is_ultra']"
   ]
  },
  {
   "cell_type": "markdown",
   "metadata": {},
   "source": [
    "## Исследуйте модели"
   ]
  },
  {
   "cell_type": "markdown",
   "metadata": {},
   "source": [
    "Для задач классификации используются следующие модели: Решающее дерево, Случайный лес и Логистическая регрессия. Метрику качества будем оценивать на валидационной выборке."
   ]
  },
  {
   "cell_type": "markdown",
   "metadata": {},
   "source": [
    "### Решающее дерево"
   ]
  },
  {
   "cell_type": "code",
   "execution_count": 197,
   "metadata": {},
   "outputs": [
    {
     "name": "stdout",
     "output_type": "stream",
     "text": [
      "Наилучшее полученное качество модели: 0.7853810264385692, \n",
      "Глубина дерева при наивысшем качестве модели: 3\n"
     ]
    }
   ],
   "source": [
    "#реализуем модель с разной глубиной дерева, чтобы добиться максимального accuracy (подберём гиперпараметр)\n",
    "best_accuracy = 0\n",
    "best_depth = 0\n",
    "accuracy_tree = []\n",
    "accuracy_train = []\n",
    "for depth in range(1,21):\n",
    "    model = DecisionTreeClassifier(max_depth=depth, random_state=12345)\n",
    "    model.fit(features_train, target_train)\n",
    "    accuracy = model.score(features_valid, target_valid)\n",
    "    accuracy_train.append(model.score(features_train, target_train))\n",
    "    accuracy_tree.append(accuracy)\n",
    "    if accuracy > best_accuracy:\n",
    "        best_accuracy = accuracy\n",
    "        best_depth = depth\n",
    "print(f'Наилучшее полученное качество модели: {best_accuracy}, \\nГлубина дерева при наивысшем качестве модели: {best_depth}')"
   ]
  },
  {
   "cell_type": "code",
   "execution_count": 198,
   "metadata": {
    "scrolled": true
   },
   "outputs": [
    {
     "data": {
      "image/png": "[encoded data removed]",
      "text/plain": [
       "<Figure size 1440x720 with 1 Axes>"
      ]
     },
     "metadata": {
      "needs_background": "light"
     },
     "output_type": "display_data"
    }
   ],
   "source": [
    "#визуализация разделения в дереве и принятия решений для глубины 3\n",
    "\n",
    "plt.figure(figsize=(20, 10))\n",
    "tree = DecisionTreeClassifier(max_depth=3, random_state=12345).fit(features_train, target_train)\n",
    "plot_tree(tree, filled=True)\n",
    "plt.show()"
   ]
  },
  {
   "cell_type": "code",
   "execution_count": 199,
   "metadata": {},
   "outputs": [
    {
     "data": {
      "text/plain": [
       "<matplotlib.legend.Legend at 0x7fb4159611c0>"
      ]
     },
     "execution_count": 199,
     "metadata": {},
     "output_type": "execute_result"
    },
    {
     "data": {
      "image/png": "[encoded data removed]",
      "text/plain": [
       "<Figure size 720x504 with 1 Axes>"
      ]
     },
     "metadata": {
      "needs_background": "light"
     },
     "output_type": "display_data"
    }
   ],
   "source": [
    "#посмотрим, как менялась метрика accuracy при переборе глубины\n",
    "\n",
    "\n",
    "depth_tree = [1, 2, 3, 4, 5, 6, 7, 8, 9, 10, 11, 12, 13, 14, 15, 16, 17, 18, 19, 20]\n",
    "fig, ax = plt.subplots(figsize=(10, 7))\n",
    "plt.xticks(depth_tree)\n",
    "ax.plot(depth_tree, accuracy_tree, '-', label = 'valid')\n",
    "ax.plot(depth_tree, accuracy_train, '--', label = 'train')\n",
    "ax.legend()"
   ]
  },
  {
   "cell_type": "markdown",
   "metadata": {},
   "source": [
    "### Случайный лес"
   ]
  },
  {
   "cell_type": "code",
   "execution_count": 200,
   "metadata": {},
   "outputs": [
    {
     "name": "stdout",
     "output_type": "stream",
     "text": [
      "Наилучшее полученное качество модели: 0.8087091757387247 \n",
      "Глубина дерева при наивысшем качестве модели: 6 \n",
      "Количество деревьев в лесу с наилучшим accuracy: 35 \n",
      "Минимальное количество объектов в узле: 2\n"
     ]
    }
   ],
   "source": [
    "#для этой модели подбираемые гиперпараметры: количество деревьев, глубина деревьев и минимальное количество объектов в узле\n",
    "\n",
    "best_accuracy = 0\n",
    "best_depth = 0\n",
    "best_est = 0\n",
    "best_sample = 0\n",
    "for depth in range(1,11):\n",
    "    for est in range(5,51,5):\n",
    "        for sample in range(2,6):\n",
    "            model = RandomForestClassifier(max_depth=depth, n_estimators=est, min_samples_leaf=sample, random_state=12345)\n",
    "            model.fit(features_train, target_train)\n",
    "            accuracy = model.score(features_valid, target_valid)\n",
    "            if accuracy > best_accuracy:\n",
    "                best_accuracy = accuracy\n",
    "                best_depth = depth\n",
    "                best_est = est\n",
    "                best_sample = sample\n",
    "print(f'Наилучшее полученное качество модели: {best_accuracy} \\nГлубина дерева при наивысшем качестве модели: {best_depth} \\nКоличество деревьев в лесу с наилучшим accuracy: {best_est} \\nМинимальное количество объектов в узле: {best_sample}')"
   ]
  },
  {
   "cell_type": "markdown",
   "metadata": {},
   "source": [
    "### Логистическая регрессия"
   ]
  },
  {
   "cell_type": "code",
   "execution_count": 201,
   "metadata": {},
   "outputs": [
    {
     "name": "stdout",
     "output_type": "stream",
     "text": [
      "Наилучшее полученное качество модели: 0.7107309486780715, \n",
      "Максимальное число итераций при наивысшем качестве модели: 100\n"
     ]
    }
   ],
   "source": [
    "#реализуем модель с разным максимальным числом итераций, чтобы добиться максимального accuracy (подберём гиперпараметр)\n",
    "best_accuracy = 0\n",
    "best_iter = 0\n",
    "for iteration in range(100, 1000, 50):\n",
    "    model = LogisticRegression(random_state=12345, solver='lbfgs', max_iter=iteration)\n",
    "    model.fit(features_train, target_train)\n",
    "    accuracy = model.score(features_valid, target_valid)\n",
    "    if accuracy > best_accuracy:\n",
    "        best_accuracy = accuracy\n",
    "        best_iter = iteration\n",
    "print(f'Наилучшее полученное качество модели: {best_accuracy}, \\nМаксимальное число итераций при наивысшем качестве модели: {best_iter}')"
   ]
  },
  {
   "cell_type": "markdown",
   "metadata": {},
   "source": [
    "**Вывод:**\n",
    "Наивысшее качество показала модель 'Случайный лес', при этом скорость работы у модели самая низкая. Метрика accuracy достигла 0.8087091757387247 при:\n",
    "* max_depth = 6 (глубина деревьев)\n",
    "* n_estimators = 35 (количество деревьев) \n",
    "* min_samples_leaf = 2 (минимальное количество объектов в узле).\n",
    "\n",
    "Худший результат показала модель 'Логистическая регрессия'."
   ]
  },
  {
   "cell_type": "markdown",
   "metadata": {},
   "source": [
    "## Проверьте модель на тестовой выборке"
   ]
  },
  {
   "cell_type": "markdown",
   "metadata": {},
   "source": [
    "Так как наилучший результат показала модель Случайный лес, то на тестовой выборке будем проверять именно её при всех определенных гиперпараметрах. "
   ]
  },
  {
   "cell_type": "code",
   "execution_count": 202,
   "metadata": {},
   "outputs": [
    {
     "name": "stdout",
     "output_type": "stream",
     "text": [
      "Accuracy для тестовой выборки: 0.7962674961119751\n"
     ]
    }
   ],
   "source": [
    "model = RandomForestClassifier(random_state=12345, n_estimators=35, max_depth=6, min_samples_leaf = 2)\n",
    "model.fit(features_train, target_train)\n",
    "test_predictions = model.predict(features_test)\n",
    "accuracy = accuracy_score(target_test, test_predictions)\n",
    "print('Accuracy для тестовой выборки:', accuracy)"
   ]
  },
  {
   "cell_type": "markdown",
   "metadata": {},
   "source": [
    "Для тестовой выборки accuracy составило 0.7962674961119751, что довольно близко к полученному на валидационной выборке для этой модели. И результат соответствует цели: полученная метрика больше, чем 0.75. "
   ]
  },
  {
   "cell_type": "code",
   "execution_count": 203,
   "metadata": {},
   "outputs": [
    {
     "data": {
      "text/plain": [
       "0.7857142857142857"
      ]
     },
     "execution_count": 203,
     "metadata": {},
     "output_type": "execute_result"
    }
   ],
   "source": [
    "#precision (точность) - метрика, показывающая, какая доля объектов, спрогнозированных моделью как \"1\", действительно являются таковыми.\n",
    "precision_score(target_test, test_predictions)"
   ]
  },
  {
   "cell_type": "code",
   "execution_count": 204,
   "metadata": {},
   "outputs": [
    {
     "data": {
      "text/plain": [
       "0.4876847290640394"
      ]
     },
     "execution_count": 204,
     "metadata": {},
     "output_type": "execute_result"
    }
   ],
   "source": [
    "#recall (полнота) - метрика, выявляющая, какую долю объектов класса \"1\" из всех объектов положительного класса нашел алгоритм\n",
    "recall_score(target_test, test_predictions)"
   ]
  },
  {
   "cell_type": "markdown",
   "metadata": {},
   "source": [
    "## (бонус) Проверьте модели на адекватность"
   ]
  },
  {
   "cell_type": "code",
   "execution_count": 205,
   "metadata": {},
   "outputs": [
    {
     "name": "stdout",
     "output_type": "stream",
     "text": [
      "Accuracy для тестовой выборки при использовании модели \"Решающее дерево\": 0.7791601866251944\n"
     ]
    }
   ],
   "source": [
    "#попробуем остальные модели на тестовой выборке\n",
    "\n",
    "model = DecisionTreeClassifier(random_state=12345, max_depth=3)\n",
    "model.fit(features_train, target_train)\n",
    "test_predictions = model.predict(features_test)\n",
    "accuracy = accuracy_score(target_test, test_predictions)\n",
    "print('Accuracy для тестовой выборки при использовании модели \"Решающее дерево\":', accuracy)"
   ]
  },
  {
   "cell_type": "code",
   "execution_count": 206,
   "metadata": {},
   "outputs": [
    {
     "name": "stdout",
     "output_type": "stream",
     "text": [
      "Accuracy для тестовой выборки при использовании модели \"Логистическая регрессия\": 0.6842923794712286\n"
     ]
    }
   ],
   "source": [
    "model = LogisticRegression(random_state=12345, solver='lbfgs', max_iter=100)\n",
    "model.fit(features_train, target_train)\n",
    "test_predictions = model.predict(features_test)\n",
    "accuracy = accuracy_score(target_test, test_predictions)\n",
    "print('Accuracy для тестовой выборки при использовании модели \"Логистическая регрессия\":', accuracy)"
   ]
  },
  {
   "cell_type": "markdown",
   "metadata": {},
   "source": [
    "Проверив остальные 2 модели на тестовой выборке, получили результаты хуже, чем при использовании модели \"Случайный лес\", как и на валидационной выборке. Поэтому модель выбрана была верно.  "
   ]
  },
  {
   "cell_type": "code",
   "execution_count": 207,
   "metadata": {},
   "outputs": [
    {
     "data": {
      "text/plain": [
       "0    440\n",
       "1    203\n",
       "Name: is_ultra, dtype: int64"
      ]
     },
     "execution_count": 207,
     "metadata": {},
     "output_type": "execute_result"
    }
   ],
   "source": [
    "# посмотрим на то, какое количество обоих тарифных планов было предсказано и какое было в исходной тестовой выборке\n",
    "\n",
    "target_test.value_counts()"
   ]
  },
  {
   "cell_type": "code",
   "execution_count": 208,
   "metadata": {},
   "outputs": [
    {
     "data": {
      "text/plain": [
       "0    517\n",
       "1    126\n",
       "dtype: int64"
      ]
     },
     "execution_count": 208,
     "metadata": {},
     "output_type": "execute_result"
    }
   ],
   "source": [
    "model = RandomForestClassifier(random_state=12345, n_estimators=35, max_depth=6, min_samples_leaf = 2)\n",
    "model.fit(features_train, target_train)\n",
    "test_predictions = model.predict(features_test)\n",
    "pd.Series(test_predictions).value_counts()"
   ]
  },
  {
   "cell_type": "markdown",
   "metadata": {},
   "source": [
    "Итак, 0 - это тариф \"Смарт\", а 1 - тариф \"Ультра\". \n",
    "\n",
    "В исходных тестовых данных доля тарифа \"Смарт\" составляет 68.4%, а в предсказании 80.4%.\n",
    "\"Ультра\" в тестовой выборке составляет 31.6%, а в предсказании 19.6%.\n",
    "Возможно, это может быть связано с тем, что в обучающей выборке тарифа \"Смарт\" больше. Проверим."
   ]
  },
  {
   "cell_type": "code",
   "execution_count": 209,
   "metadata": {},
   "outputs": [
    {
     "data": {
      "text/plain": [
       "0    1335\n",
       "1     593\n",
       "Name: is_ultra, dtype: int64"
      ]
     },
     "execution_count": 209,
     "metadata": {},
     "output_type": "execute_result"
    }
   ],
   "source": [
    "target_train.value_counts()"
   ]
  },
  {
   "cell_type": "markdown",
   "metadata": {},
   "source": [
    "Да, действительно, тарифа \"Смарт\" в 2.25 раз больше, чем \"Ультра\". То есть имеется дисбаланс в обучающей выборке. Поэтому модель обучается чаще давать в качестве результата \"1\"."
   ]
  },
  {
   "cell_type": "code",
   "execution_count": 210,
   "metadata": {},
   "outputs": [
    {
     "name": "stdout",
     "output_type": "stream",
     "text": [
      "Accuracy для тестовой выборки: 0.7962674961119751\n"
     ]
    }
   ],
   "source": [
    "model = RandomForestClassifier(random_state=12345, n_estimators=35, max_depth=6, min_samples_leaf = 2)\n",
    "model.fit(features_train, target_train)\n",
    "test_predictions = model.predict(features_test)\n",
    "accuracy = accuracy_score(target_test, test_predictions)\n",
    "print('Accuracy для тестовой выборки:', accuracy)"
   ]
  },
  {
   "cell_type": "code",
   "execution_count": 211,
   "metadata": {},
   "outputs": [
    {
     "name": "stdout",
     "output_type": "stream",
     "text": [
      "Качество простойшего прогноза: 0.536547433903577\n",
      "Качество нашего прогноза: 0.7962674961119751\n"
     ]
    }
   ],
   "source": [
    "simple_model = DummyClassifier(strategy='stratified' ,random_state=12345)\n",
    "simple_model.fit(features_train, target_train)\n",
    "simple_accuracy = simple_model.score(features_test, target_test)\n",
    "print('Качество простойшего прогноза:', simple_accuracy)\n",
    "print('Качество нашего прогноза:', accuracy)"
   ]
  },
  {
   "cell_type": "code",
   "execution_count": 212,
   "metadata": {},
   "outputs": [
    {
     "name": "stdout",
     "output_type": "stream",
     "text": [
      "Качество простойшего прогноза: 0.4821150855365474\n",
      "Качество нашего прогноза: 0.7962674961119751\n"
     ]
    }
   ],
   "source": [
    "#попробуем с иной стратегией\n",
    "simple_model = DummyClassifier(strategy='uniform' ,random_state=12345)\n",
    "simple_model.fit(features_train, target_train)\n",
    "simple_accuracy = simple_model.score(features_test, target_test)\n",
    "print('Качество простойшего прогноза:', simple_accuracy)\n",
    "print('Качество нашего прогноза:', accuracy)"
   ]
  },
  {
   "cell_type": "markdown",
   "metadata": {},
   "source": [
    "Сравнив выбранную для результирующего прогноза модель с простейшей, можно сделать вывод, что модель адекватная, её accuracy значительно превышает accuracy простейшей модели с двумя разными стратегиями.\n",
    "Также создадим обучающую выборку без дисбаланса в целевом признаке."
   ]
  },
  {
   "cell_type": "code",
   "execution_count": 213,
   "metadata": {},
   "outputs": [
    {
     "data": {
      "text/plain": [
       "0    593\n",
       "1    593\n",
       "Name: is_ultra, dtype: int64"
      ]
     },
     "execution_count": 213,
     "metadata": {},
     "output_type": "execute_result"
    }
   ],
   "source": [
    "data_ultra = data_train.query('is_ultra == 1')\n",
    "data_smart = data_train.query('is_ultra == 0').head(593)\n",
    "balance = [data_ultra, data_smart]\n",
    "data_train_new = pd.concat(balance)\n",
    "\n",
    "data_train_new['is_ultra'].value_counts()"
   ]
  },
  {
   "cell_type": "code",
   "execution_count": 214,
   "metadata": {},
   "outputs": [
    {
     "name": "stdout",
     "output_type": "stream",
     "text": [
      "Accuracy для тестовой выборки: 0.7962674961119751\n"
     ]
    }
   ],
   "source": [
    "model = RandomForestClassifier(random_state=12345, n_estimators=35, max_depth=6, min_samples_leaf = 2)\n",
    "model.fit(features_train, target_train)\n",
    "test_predictions = model.predict(features_test)\n",
    "accuracy = accuracy_score(target_test, test_predictions)\n",
    "print('Accuracy для тестовой выборки:', accuracy)"
   ]
  },
  {
   "cell_type": "code",
   "execution_count": 215,
   "metadata": {},
   "outputs": [
    {
     "name": "stdout",
     "output_type": "stream",
     "text": [
      "Accuracy для тестовой выборки при обучении без дисбаланса: 0.7962674961119751\n"
     ]
    }
   ],
   "source": [
    "#теперь обучим выбранную модель с подобранными гиперпараметрами на новом наборе данных без дисбаланса и проверим accuracy на тестовой выборке\n",
    "features_train_balance = data_train_new.drop('is_ultra', axis=1)\n",
    "target_train_balance = data_train_new['is_ultra']\n",
    "balance_model = RandomForestClassifier(random_state=12345, n_estimators=35, max_depth=6, min_samples_leaf=2)\n",
    "balance_model.fit(features_train_balance, target_train_balance)\n",
    "test_predictions = model.predict(features_test)\n",
    "accuracy_balance = accuracy_score(target_test, test_predictions)\n",
    "print('Accuracy для тестовой выборки при обучении без дисбаланса:', accuracy_balance)"
   ]
  },
  {
   "cell_type": "markdown",
   "metadata": {},
   "source": [
    "Метрика accuracy не отличается для обучающих выборок с дисбалансом и без него."
   ]
  }
 ],
 "metadata": {
  "ExecuteTimeLog": [
   {
    "duration": 1565,
    "start_time": "2022-11-21T15:51:19.597Z"
   },
   {
    "duration": 77,
    "start_time": "2022-11-21T15:52:25.234Z"
   },
   {
    "duration": 10,
    "start_time": "2022-11-21T15:53:59.998Z"
   },
   {
    "duration": 15,
    "start_time": "2022-11-21T15:54:33.997Z"
   },
   {
    "duration": 4,
    "start_time": "2022-11-21T15:57:08.389Z"
   },
   {
    "duration": 11,
    "start_time": "2022-11-21T15:57:19.657Z"
   },
   {
    "duration": 6,
    "start_time": "2022-11-21T15:58:53.945Z"
   },
   {
    "duration": 11,
    "start_time": "2022-11-21T15:58:54.925Z"
   },
   {
    "duration": 12,
    "start_time": "2022-11-21T15:59:31.673Z"
   },
   {
    "duration": 4,
    "start_time": "2022-11-21T15:59:36.100Z"
   },
   {
    "duration": 42,
    "start_time": "2022-11-21T15:59:36.253Z"
   },
   {
    "duration": 13,
    "start_time": "2022-11-21T15:59:36.593Z"
   },
   {
    "duration": 6,
    "start_time": "2022-11-21T15:59:36.953Z"
   },
   {
    "duration": 11,
    "start_time": "2022-11-21T15:59:37.505Z"
   },
   {
    "duration": 25,
    "start_time": "2022-11-21T16:00:07.681Z"
   },
   {
    "duration": 24,
    "start_time": "2022-11-21T16:00:33.169Z"
   },
   {
    "duration": 317,
    "start_time": "2022-11-21T16:06:51.816Z"
   },
   {
    "duration": 335,
    "start_time": "2022-11-21T16:07:21.933Z"
   },
   {
    "duration": 441,
    "start_time": "2022-11-21T16:07:31.453Z"
   },
   {
    "duration": 445,
    "start_time": "2022-11-21T16:08:59.842Z"
   },
   {
    "duration": 471,
    "start_time": "2022-11-21T16:09:16.889Z"
   },
   {
    "duration": 600,
    "start_time": "2022-11-21T16:10:35.442Z"
   },
   {
    "duration": 399,
    "start_time": "2022-11-21T16:10:44.765Z"
   },
   {
    "duration": 469,
    "start_time": "2022-11-21T16:11:07.596Z"
   },
   {
    "duration": 377,
    "start_time": "2022-11-21T16:11:56.244Z"
   },
   {
    "duration": 97,
    "start_time": "2022-11-21T16:16:10.160Z"
   },
   {
    "duration": 158,
    "start_time": "2022-11-21T16:16:28.164Z"
   },
   {
    "duration": 267,
    "start_time": "2022-11-21T16:16:40.555Z"
   },
   {
    "duration": 302,
    "start_time": "2022-11-21T16:16:46.713Z"
   },
   {
    "duration": 315,
    "start_time": "2022-11-21T16:17:08.296Z"
   },
   {
    "duration": 459,
    "start_time": "2022-11-21T16:21:07.813Z"
   },
   {
    "duration": 405,
    "start_time": "2022-11-21T16:23:37.804Z"
   },
   {
    "duration": 1812,
    "start_time": "2022-11-21T16:24:33.888Z"
   },
   {
    "duration": 452,
    "start_time": "2022-11-21T16:24:46.952Z"
   },
   {
    "duration": 438,
    "start_time": "2022-11-21T16:25:28.268Z"
   },
   {
    "duration": 500,
    "start_time": "2022-11-21T16:26:16.624Z"
   },
   {
    "duration": 522,
    "start_time": "2022-11-21T16:27:45.232Z"
   },
   {
    "duration": 484,
    "start_time": "2022-11-21T16:28:11.540Z"
   },
   {
    "duration": 395,
    "start_time": "2022-11-21T16:28:29.144Z"
   },
   {
    "duration": 439,
    "start_time": "2022-11-21T16:28:34.056Z"
   },
   {
    "duration": 499,
    "start_time": "2022-11-21T16:29:31.352Z"
   },
   {
    "duration": 646,
    "start_time": "2022-11-21T16:31:00.544Z"
   },
   {
    "duration": 12,
    "start_time": "2022-11-21T17:10:42.485Z"
   },
   {
    "duration": 9,
    "start_time": "2022-11-21T17:10:54.313Z"
   },
   {
    "duration": 6,
    "start_time": "2022-11-21T17:15:17.412Z"
   },
   {
    "duration": 1536,
    "start_time": "2022-11-22T08:34:36.350Z"
   },
   {
    "duration": 136,
    "start_time": "2022-11-22T08:34:37.888Z"
   },
   {
    "duration": 13,
    "start_time": "2022-11-22T08:34:38.025Z"
   },
   {
    "duration": 20,
    "start_time": "2022-11-22T08:34:38.040Z"
   },
   {
    "duration": 36,
    "start_time": "2022-11-22T08:34:38.062Z"
   },
   {
    "duration": 511,
    "start_time": "2022-11-22T08:34:38.100Z"
   },
   {
    "duration": 7,
    "start_time": "2022-11-22T08:34:38.613Z"
   },
   {
    "duration": 14,
    "start_time": "2022-11-22T08:34:38.621Z"
   },
   {
    "duration": 51,
    "start_time": "2022-11-22T08:40:01.545Z"
   },
   {
    "duration": 114,
    "start_time": "2022-11-22T08:40:12.768Z"
   },
   {
    "duration": 129,
    "start_time": "2022-11-22T08:41:04.333Z"
   },
   {
    "duration": 110,
    "start_time": "2022-11-22T08:41:11.357Z"
   },
   {
    "duration": 64,
    "start_time": "2022-11-22T08:41:20.192Z"
   },
   {
    "duration": 65,
    "start_time": "2022-11-22T10:27:11.464Z"
   },
   {
    "duration": 69,
    "start_time": "2022-11-22T10:31:41.036Z"
   },
   {
    "duration": 225,
    "start_time": "2022-11-22T10:33:43.739Z"
   },
   {
    "duration": 5,
    "start_time": "2022-11-22T10:34:25.355Z"
   },
   {
    "duration": 133,
    "start_time": "2022-11-22T10:35:53.783Z"
   },
   {
    "duration": 215,
    "start_time": "2022-11-22T10:36:15.819Z"
   },
   {
    "duration": 141,
    "start_time": "2022-11-22T10:36:23.827Z"
   },
   {
    "duration": 191,
    "start_time": "2022-11-22T10:38:34.587Z"
   },
   {
    "duration": 14,
    "start_time": "2022-11-22T10:38:48.911Z"
   },
   {
    "duration": 100,
    "start_time": "2022-11-22T10:39:47.599Z"
   },
   {
    "duration": 14,
    "start_time": "2022-11-22T10:39:57.503Z"
   },
   {
    "duration": 11,
    "start_time": "2022-11-22T10:40:54.315Z"
   },
   {
    "duration": 12,
    "start_time": "2022-11-22T10:41:00.191Z"
   },
   {
    "duration": 157,
    "start_time": "2022-11-22T10:43:05.963Z"
   },
   {
    "duration": 143,
    "start_time": "2022-11-22T10:43:17.943Z"
   },
   {
    "duration": 101,
    "start_time": "2022-11-22T10:50:35.746Z"
   },
   {
    "duration": 3,
    "start_time": "2022-11-22T10:50:41.887Z"
   },
   {
    "duration": 40,
    "start_time": "2022-11-22T10:50:42.208Z"
   },
   {
    "duration": 12,
    "start_time": "2022-11-22T10:50:42.734Z"
   },
   {
    "duration": 5,
    "start_time": "2022-11-22T10:50:43.103Z"
   },
   {
    "duration": 24,
    "start_time": "2022-11-22T10:50:43.507Z"
   },
   {
    "duration": 550,
    "start_time": "2022-11-22T10:50:44.310Z"
   },
   {
    "duration": 9,
    "start_time": "2022-11-22T10:50:45.227Z"
   },
   {
    "duration": 7,
    "start_time": "2022-11-22T10:50:45.710Z"
   },
   {
    "duration": 73,
    "start_time": "2022-11-22T10:50:47.514Z"
   },
   {
    "duration": 168,
    "start_time": "2022-11-22T10:50:48.137Z"
   },
   {
    "duration": 88,
    "start_time": "2022-11-22T10:50:49.862Z"
   },
   {
    "duration": 28907,
    "start_time": "2022-11-22T10:51:29.402Z"
   },
   {
    "duration": 4,
    "start_time": "2022-11-22T10:53:02.162Z"
   },
   {
    "duration": 40,
    "start_time": "2022-11-22T10:53:02.530Z"
   },
   {
    "duration": 11,
    "start_time": "2022-11-22T10:53:02.834Z"
   },
   {
    "duration": 5,
    "start_time": "2022-11-22T10:53:03.478Z"
   },
   {
    "duration": 25,
    "start_time": "2022-11-22T10:53:03.841Z"
   },
   {
    "duration": 502,
    "start_time": "2022-11-22T10:53:04.826Z"
   },
   {
    "duration": 8,
    "start_time": "2022-11-22T10:53:07.142Z"
   },
   {
    "duration": 7,
    "start_time": "2022-11-22T10:53:07.638Z"
   },
   {
    "duration": 126,
    "start_time": "2022-11-22T10:53:09.952Z"
   },
   {
    "duration": 80,
    "start_time": "2022-11-22T10:53:19.070Z"
   },
   {
    "duration": 250,
    "start_time": "2022-11-22T10:53:21.054Z"
   },
   {
    "duration": 29546,
    "start_time": "2022-11-22T10:53:25.862Z"
   },
   {
    "duration": 30330,
    "start_time": "2022-11-22T11:02:51.880Z"
   },
   {
    "duration": 4,
    "start_time": "2022-11-22T11:03:22.212Z"
   },
   {
    "duration": 44,
    "start_time": "2022-11-22T11:03:22.218Z"
   },
   {
    "duration": 11,
    "start_time": "2022-11-22T11:03:22.264Z"
   },
   {
    "duration": 9,
    "start_time": "2022-11-22T11:03:22.277Z"
   },
   {
    "duration": 27,
    "start_time": "2022-11-22T11:03:22.287Z"
   },
   {
    "duration": 550,
    "start_time": "2022-11-22T11:03:22.316Z"
   },
   {
    "duration": 7,
    "start_time": "2022-11-22T11:03:22.868Z"
   },
   {
    "duration": 12,
    "start_time": "2022-11-22T11:03:22.877Z"
   },
   {
    "duration": 89,
    "start_time": "2022-11-22T11:03:22.891Z"
   },
   {
    "duration": 151,
    "start_time": "2022-11-22T11:03:22.982Z"
   },
   {
    "duration": 3,
    "start_time": "2022-11-22T11:03:37.605Z"
   },
   {
    "duration": 39,
    "start_time": "2022-11-22T11:03:38.077Z"
   },
   {
    "duration": 12,
    "start_time": "2022-11-22T11:03:39.000Z"
   },
   {
    "duration": 5,
    "start_time": "2022-11-22T11:03:39.864Z"
   },
   {
    "duration": 24,
    "start_time": "2022-11-22T11:03:40.304Z"
   },
   {
    "duration": 542,
    "start_time": "2022-11-22T11:03:41.193Z"
   },
   {
    "duration": 8,
    "start_time": "2022-11-22T11:03:42.836Z"
   },
   {
    "duration": 6,
    "start_time": "2022-11-22T11:03:43.492Z"
   },
   {
    "duration": 74,
    "start_time": "2022-11-22T11:03:48.477Z"
   },
   {
    "duration": 147,
    "start_time": "2022-11-22T11:03:50.949Z"
   },
   {
    "duration": 29851,
    "start_time": "2022-11-22T11:03:56.293Z"
   },
   {
    "duration": 415,
    "start_time": "2022-11-22T11:06:36.965Z"
   },
   {
    "duration": 10,
    "start_time": "2022-11-22T11:18:10.215Z"
   },
   {
    "duration": 12,
    "start_time": "2022-11-22T11:19:28.274Z"
   },
   {
    "duration": 119,
    "start_time": "2022-11-22T11:19:34.651Z"
   },
   {
    "duration": 3,
    "start_time": "2022-11-22T11:20:35.735Z"
   },
   {
    "duration": 39,
    "start_time": "2022-11-22T11:20:36.183Z"
   },
   {
    "duration": 12,
    "start_time": "2022-11-22T11:20:36.999Z"
   },
   {
    "duration": 5,
    "start_time": "2022-11-22T11:20:38.187Z"
   },
   {
    "duration": 25,
    "start_time": "2022-11-22T11:20:38.590Z"
   },
   {
    "duration": 509,
    "start_time": "2022-11-22T11:20:41.002Z"
   },
   {
    "duration": 8,
    "start_time": "2022-11-22T11:20:42.571Z"
   },
   {
    "duration": 8,
    "start_time": "2022-11-22T11:20:44.126Z"
   },
   {
    "duration": 72,
    "start_time": "2022-11-22T11:20:46.099Z"
   },
   {
    "duration": 264,
    "start_time": "2022-11-22T11:20:47.955Z"
   },
   {
    "duration": 29384,
    "start_time": "2022-11-22T11:20:50.863Z"
   },
   {
    "duration": 412,
    "start_time": "2022-11-22T11:21:20.249Z"
   },
   {
    "duration": 115,
    "start_time": "2022-11-22T11:21:48.691Z"
   },
   {
    "duration": 103,
    "start_time": "2022-11-22T11:22:58.194Z"
   },
   {
    "duration": 12,
    "start_time": "2022-11-22T12:00:38.647Z"
   },
   {
    "duration": 31,
    "start_time": "2022-11-22T12:01:56.510Z"
   },
   {
    "duration": 6,
    "start_time": "2022-11-22T12:10:54.034Z"
   },
   {
    "duration": 5,
    "start_time": "2022-11-22T12:11:42.832Z"
   },
   {
    "duration": 106,
    "start_time": "2022-11-22T12:12:35.647Z"
   },
   {
    "duration": 102,
    "start_time": "2022-11-22T12:13:12.559Z"
   },
   {
    "duration": 7,
    "start_time": "2022-11-22T12:23:14.578Z"
   },
   {
    "duration": 2000,
    "start_time": "2022-11-22T12:37:53.720Z"
   },
   {
    "duration": 41,
    "start_time": "2022-11-22T12:37:55.722Z"
   },
   {
    "duration": 10,
    "start_time": "2022-11-22T12:37:55.764Z"
   },
   {
    "duration": 9,
    "start_time": "2022-11-22T12:37:55.776Z"
   },
   {
    "duration": 32,
    "start_time": "2022-11-22T12:37:55.786Z"
   },
   {
    "duration": 419,
    "start_time": "2022-11-22T12:37:55.819Z"
   },
   {
    "duration": 6,
    "start_time": "2022-11-22T12:37:56.239Z"
   },
   {
    "duration": 29,
    "start_time": "2022-11-22T12:37:56.247Z"
   },
   {
    "duration": 67,
    "start_time": "2022-11-22T12:37:56.277Z"
   },
   {
    "duration": 131,
    "start_time": "2022-11-22T12:37:56.346Z"
   },
   {
    "duration": 24968,
    "start_time": "2022-11-22T12:37:56.479Z"
   },
   {
    "duration": 337,
    "start_time": "2022-11-22T12:38:21.449Z"
   },
   {
    "duration": 106,
    "start_time": "2022-11-22T12:38:21.788Z"
   },
   {
    "duration": 10,
    "start_time": "2022-11-22T12:38:21.896Z"
   },
   {
    "duration": 37,
    "start_time": "2022-11-22T12:38:21.907Z"
   },
   {
    "duration": 6,
    "start_time": "2022-11-22T12:38:21.947Z"
   },
   {
    "duration": 133,
    "start_time": "2022-11-22T12:38:21.955Z"
   },
   {
    "duration": 5,
    "start_time": "2022-11-22T12:38:22.090Z"
   },
   {
    "duration": 1490,
    "start_time": "2022-11-22T15:24:38.543Z"
   },
   {
    "duration": 73,
    "start_time": "2022-11-22T15:26:09.556Z"
   },
   {
    "duration": 14,
    "start_time": "2022-11-22T15:26:12.916Z"
   },
   {
    "duration": 4,
    "start_time": "2022-11-22T15:26:15.604Z"
   },
   {
    "duration": 23,
    "start_time": "2022-11-22T15:26:16.343Z"
   },
   {
    "duration": 470,
    "start_time": "2022-11-22T15:26:18.635Z"
   },
   {
    "duration": 111,
    "start_time": "2022-11-22T15:31:57.603Z"
   },
   {
    "duration": 1326,
    "start_time": "2022-11-22T15:32:10.310Z"
   },
   {
    "duration": 1594,
    "start_time": "2022-11-22T15:38:07.530Z"
   },
   {
    "duration": 4,
    "start_time": "2022-11-22T15:43:04.706Z"
   },
   {
    "duration": 36,
    "start_time": "2022-11-22T15:43:07.182Z"
   },
   {
    "duration": 12,
    "start_time": "2022-11-22T15:43:08.402Z"
   },
   {
    "duration": 5,
    "start_time": "2022-11-22T15:43:11.578Z"
   },
   {
    "duration": 22,
    "start_time": "2022-11-22T15:43:12.054Z"
   },
   {
    "duration": 477,
    "start_time": "2022-11-22T15:43:14.434Z"
   },
   {
    "duration": 7,
    "start_time": "2022-11-22T15:43:19.618Z"
   },
   {
    "duration": 6,
    "start_time": "2022-11-22T15:43:22.166Z"
   },
   {
    "duration": 67,
    "start_time": "2022-11-22T15:45:09.614Z"
   },
   {
    "duration": 4,
    "start_time": "2022-11-22T15:48:17.102Z"
   },
   {
    "duration": 41,
    "start_time": "2022-11-22T15:48:19.818Z"
   },
   {
    "duration": 14,
    "start_time": "2022-11-22T15:48:22.606Z"
   },
   {
    "duration": 6,
    "start_time": "2022-11-22T15:48:24.490Z"
   },
   {
    "duration": 29,
    "start_time": "2022-11-22T15:48:24.967Z"
   },
   {
    "duration": 478,
    "start_time": "2022-11-22T15:48:27.062Z"
   },
   {
    "duration": 9,
    "start_time": "2022-11-22T15:48:29.389Z"
   },
   {
    "duration": 7,
    "start_time": "2022-11-22T15:48:30.802Z"
   },
   {
    "duration": 73,
    "start_time": "2022-11-22T15:48:50.942Z"
   },
   {
    "duration": 13,
    "start_time": "2022-11-22T15:49:47.414Z"
   },
   {
    "duration": 26,
    "start_time": "2022-11-22T15:52:07.649Z"
   },
   {
    "duration": 3,
    "start_time": "2022-11-22T15:52:43.137Z"
   },
   {
    "duration": 39,
    "start_time": "2022-11-22T15:52:45.745Z"
   },
   {
    "duration": 12,
    "start_time": "2022-11-22T15:52:46.065Z"
   },
   {
    "duration": 5,
    "start_time": "2022-11-22T15:52:48.413Z"
   },
   {
    "duration": 23,
    "start_time": "2022-11-22T15:52:48.564Z"
   },
   {
    "duration": 443,
    "start_time": "2022-11-22T15:52:50.549Z"
   },
   {
    "duration": 8,
    "start_time": "2022-11-22T15:52:54.685Z"
   },
   {
    "duration": 6,
    "start_time": "2022-11-22T15:52:54.882Z"
   },
   {
    "duration": 65,
    "start_time": "2022-11-22T15:52:59.005Z"
   },
   {
    "duration": 7077,
    "start_time": "2022-11-22T15:53:02.009Z"
   },
   {
    "duration": 22,
    "start_time": "2022-11-22T15:53:49.113Z"
   },
   {
    "duration": 7497,
    "start_time": "2022-11-22T15:55:00.697Z"
   },
   {
    "duration": 530,
    "start_time": "2022-11-22T15:55:30.260Z"
   },
   {
    "duration": 689,
    "start_time": "2022-11-22T15:56:53.565Z"
   },
   {
    "duration": 134,
    "start_time": "2022-11-22T15:59:11.533Z"
   },
   {
    "duration": 13,
    "start_time": "2022-11-22T15:59:30.441Z"
   },
   {
    "duration": 13,
    "start_time": "2022-11-22T15:59:45.880Z"
   },
   {
    "duration": 13,
    "start_time": "2022-11-22T16:00:38.104Z"
   },
   {
    "duration": 582,
    "start_time": "2022-11-22T16:07:09.696Z"
   },
   {
    "duration": 13,
    "start_time": "2022-11-22T16:10:05.556Z"
   },
   {
    "duration": 4,
    "start_time": "2022-11-22T16:10:15.456Z"
   },
   {
    "duration": 35,
    "start_time": "2022-11-22T16:10:16.080Z"
   },
   {
    "duration": 12,
    "start_time": "2022-11-22T16:10:16.436Z"
   },
   {
    "duration": 5,
    "start_time": "2022-11-22T16:10:16.772Z"
   },
   {
    "duration": 23,
    "start_time": "2022-11-22T16:10:16.944Z"
   },
   {
    "duration": 430,
    "start_time": "2022-11-22T16:10:17.280Z"
   },
   {
    "duration": 7,
    "start_time": "2022-11-22T16:10:18.596Z"
   },
   {
    "duration": 7,
    "start_time": "2022-11-22T16:10:19.056Z"
   },
   {
    "duration": 81,
    "start_time": "2022-11-22T16:10:23.208Z"
   },
   {
    "duration": 522,
    "start_time": "2022-11-22T16:10:25.736Z"
   },
   {
    "duration": 130,
    "start_time": "2022-11-22T16:10:27.584Z"
   },
   {
    "duration": 85,
    "start_time": "2022-11-22T16:11:23.716Z"
   },
   {
    "duration": 545,
    "start_time": "2022-11-22T16:11:26.596Z"
   },
   {
    "duration": 124,
    "start_time": "2022-11-22T16:11:27.868Z"
   },
   {
    "duration": 147,
    "start_time": "2022-11-22T16:11:42.269Z"
   },
   {
    "duration": 143,
    "start_time": "2022-11-22T16:12:26.216Z"
   },
   {
    "duration": 151,
    "start_time": "2022-11-22T16:13:37.164Z"
   },
   {
    "duration": 159,
    "start_time": "2022-11-22T16:13:56.504Z"
   },
   {
    "duration": 161,
    "start_time": "2022-11-22T16:14:12.936Z"
   },
   {
    "duration": 95,
    "start_time": "2022-11-22T16:15:21.159Z"
   },
   {
    "duration": 310,
    "start_time": "2022-11-22T16:15:37.452Z"
   },
   {
    "duration": 187,
    "start_time": "2022-11-22T16:15:52.880Z"
   },
   {
    "duration": 205,
    "start_time": "2022-11-22T16:18:14.079Z"
   },
   {
    "duration": 138,
    "start_time": "2022-11-22T16:18:43.123Z"
   },
   {
    "duration": 164,
    "start_time": "2022-11-22T16:18:51.776Z"
   },
   {
    "duration": 3,
    "start_time": "2022-11-22T16:19:53.088Z"
   },
   {
    "duration": 36,
    "start_time": "2022-11-22T16:19:53.819Z"
   },
   {
    "duration": 11,
    "start_time": "2022-11-22T16:19:54.179Z"
   },
   {
    "duration": 5,
    "start_time": "2022-11-22T16:19:54.540Z"
   },
   {
    "duration": 24,
    "start_time": "2022-11-22T16:19:54.716Z"
   },
   {
    "duration": 523,
    "start_time": "2022-11-22T16:19:55.073Z"
   },
   {
    "duration": 8,
    "start_time": "2022-11-22T16:19:56.243Z"
   },
   {
    "duration": 6,
    "start_time": "2022-11-22T16:19:58.176Z"
   },
   {
    "duration": 196,
    "start_time": "2022-11-22T16:20:00.207Z"
   },
   {
    "duration": 508,
    "start_time": "2022-11-22T16:20:07.056Z"
   },
   {
    "duration": 158,
    "start_time": "2022-11-22T16:20:24.452Z"
   },
   {
    "duration": 202,
    "start_time": "2022-11-22T16:23:41.815Z"
   },
   {
    "duration": 3,
    "start_time": "2022-11-22T16:24:09.055Z"
   },
   {
    "duration": 35,
    "start_time": "2022-11-22T16:24:09.663Z"
   },
   {
    "duration": 12,
    "start_time": "2022-11-22T16:24:10.627Z"
   },
   {
    "duration": 4,
    "start_time": "2022-11-22T16:24:11.511Z"
   },
   {
    "duration": 23,
    "start_time": "2022-11-22T16:24:11.763Z"
   },
   {
    "duration": 564,
    "start_time": "2022-11-22T16:24:12.607Z"
   },
   {
    "duration": 10,
    "start_time": "2022-11-22T16:24:15.286Z"
   },
   {
    "duration": 7,
    "start_time": "2022-11-22T16:24:16.031Z"
   },
   {
    "duration": 247,
    "start_time": "2022-11-22T16:24:19.075Z"
   },
   {
    "duration": 26120,
    "start_time": "2022-11-22T16:26:21.939Z"
   },
   {
    "duration": 331,
    "start_time": "2022-11-22T16:27:56.543Z"
   },
   {
    "duration": 94,
    "start_time": "2022-11-22T16:53:47.157Z"
   },
   {
    "duration": 3,
    "start_time": "2022-11-22T17:20:57.862Z"
   },
   {
    "duration": 36,
    "start_time": "2022-11-22T17:20:58.229Z"
   },
   {
    "duration": 14,
    "start_time": "2022-11-22T17:20:58.546Z"
   },
   {
    "duration": 4,
    "start_time": "2022-11-22T17:20:58.850Z"
   },
   {
    "duration": 23,
    "start_time": "2022-11-22T17:20:59.018Z"
   },
   {
    "duration": 457,
    "start_time": "2022-11-22T17:20:59.366Z"
   },
   {
    "duration": 8,
    "start_time": "2022-11-22T17:21:02.242Z"
   },
   {
    "duration": 6,
    "start_time": "2022-11-22T17:21:02.582Z"
   },
   {
    "duration": 198,
    "start_time": "2022-11-22T17:21:04.439Z"
   },
   {
    "duration": 547,
    "start_time": "2022-11-22T17:21:07.678Z"
   },
   {
    "duration": 203,
    "start_time": "2022-11-22T17:21:08.910Z"
   },
   {
    "duration": 27205,
    "start_time": "2022-11-22T17:21:12.478Z"
   },
   {
    "duration": 360,
    "start_time": "2022-11-22T17:21:39.686Z"
   },
   {
    "duration": 95,
    "start_time": "2022-11-22T17:22:19.558Z"
   },
   {
    "duration": 76,
    "start_time": "2022-11-22T17:23:32.693Z"
   },
   {
    "duration": 69,
    "start_time": "2022-11-22T17:23:37.446Z"
   },
   {
    "duration": 7,
    "start_time": "2022-11-22T17:23:43.102Z"
   },
   {
    "duration": 6,
    "start_time": "2022-11-22T17:28:36.481Z"
   },
   {
    "duration": 6,
    "start_time": "2022-11-22T17:29:39.141Z"
   },
   {
    "duration": 4,
    "start_time": "2022-11-22T17:31:04.657Z"
   },
   {
    "duration": 40,
    "start_time": "2022-11-22T17:31:07.089Z"
   },
   {
    "duration": 10,
    "start_time": "2022-11-22T17:31:07.381Z"
   },
   {
    "duration": 5,
    "start_time": "2022-11-22T17:31:07.670Z"
   },
   {
    "duration": 21,
    "start_time": "2022-11-22T17:31:07.813Z"
   },
   {
    "duration": 438,
    "start_time": "2022-11-22T17:31:08.942Z"
   },
   {
    "duration": 7,
    "start_time": "2022-11-22T17:31:11.305Z"
   },
   {
    "duration": 6,
    "start_time": "2022-11-22T17:31:11.449Z"
   },
   {
    "duration": 254,
    "start_time": "2022-11-22T17:31:13.829Z"
   },
   {
    "duration": 695,
    "start_time": "2022-11-22T17:31:16.933Z"
   },
   {
    "duration": 203,
    "start_time": "2022-11-22T17:31:18.381Z"
   },
   {
    "duration": 26239,
    "start_time": "2022-11-22T17:31:21.233Z"
   },
   {
    "duration": 323,
    "start_time": "2022-11-22T17:31:47.474Z"
   },
   {
    "duration": 89,
    "start_time": "2022-11-22T17:31:47.798Z"
   },
   {
    "duration": 6,
    "start_time": "2022-11-22T17:33:38.241Z"
   },
   {
    "duration": 107,
    "start_time": "2022-11-22T17:36:11.772Z"
   },
   {
    "duration": 7,
    "start_time": "2022-11-22T17:46:43.527Z"
   },
   {
    "duration": 6,
    "start_time": "2022-11-22T17:48:18.869Z"
   },
   {
    "duration": 13,
    "start_time": "2022-11-22T17:54:16.682Z"
   },
   {
    "duration": 77,
    "start_time": "2022-11-22T17:59:02.007Z"
   },
   {
    "duration": 3,
    "start_time": "2022-11-22T18:01:24.138Z"
   },
   {
    "duration": 34,
    "start_time": "2022-11-22T18:01:24.798Z"
   },
   {
    "duration": 12,
    "start_time": "2022-11-22T18:01:25.325Z"
   },
   {
    "duration": 5,
    "start_time": "2022-11-22T18:01:25.914Z"
   },
   {
    "duration": 25,
    "start_time": "2022-11-22T18:01:26.286Z"
   },
   {
    "duration": 477,
    "start_time": "2022-11-22T18:01:26.618Z"
   },
   {
    "duration": 7,
    "start_time": "2022-11-22T18:01:27.750Z"
   },
   {
    "duration": 7,
    "start_time": "2022-11-22T18:01:27.906Z"
   },
   {
    "duration": 204,
    "start_time": "2022-11-22T18:01:28.992Z"
   },
   {
    "duration": 526,
    "start_time": "2022-11-22T18:01:29.810Z"
   },
   {
    "duration": 196,
    "start_time": "2022-11-22T18:01:30.373Z"
   },
   {
    "duration": 26587,
    "start_time": "2022-11-22T18:01:34.206Z"
   },
   {
    "duration": 378,
    "start_time": "2022-11-22T18:02:12.768Z"
   },
   {
    "duration": 90,
    "start_time": "2022-11-22T18:02:20.402Z"
   },
   {
    "duration": 6,
    "start_time": "2022-11-22T18:02:26.172Z"
   },
   {
    "duration": 6,
    "start_time": "2022-11-22T18:02:26.806Z"
   },
   {
    "duration": 10,
    "start_time": "2022-11-22T18:02:32.250Z"
   },
   {
    "duration": 30,
    "start_time": "2022-11-22T18:02:36.914Z"
   },
   {
    "duration": 4,
    "start_time": "2022-11-22T18:02:40.798Z"
   },
   {
    "duration": 91,
    "start_time": "2022-11-22T18:02:44.346Z"
   },
   {
    "duration": 5,
    "start_time": "2022-11-22T18:02:47.149Z"
   },
   {
    "duration": 6,
    "start_time": "2022-11-22T18:02:53.745Z"
   },
   {
    "duration": 5,
    "start_time": "2022-11-22T18:02:57.254Z"
   },
   {
    "duration": 13,
    "start_time": "2022-11-22T18:03:09.255Z"
   },
   {
    "duration": 82,
    "start_time": "2022-11-22T18:03:13.396Z"
   },
   {
    "duration": 72,
    "start_time": "2022-11-22T18:03:32.534Z"
   },
   {
    "duration": 103,
    "start_time": "2022-11-22T18:04:16.102Z"
   },
   {
    "duration": 77,
    "start_time": "2022-11-22T18:04:17.610Z"
   },
   {
    "duration": 4,
    "start_time": "2022-11-22T18:06:56.717Z"
   },
   {
    "duration": 34,
    "start_time": "2022-11-22T18:06:57.037Z"
   },
   {
    "duration": 12,
    "start_time": "2022-11-22T18:06:57.334Z"
   },
   {
    "duration": 5,
    "start_time": "2022-11-22T18:06:57.621Z"
   },
   {
    "duration": 29,
    "start_time": "2022-11-22T18:06:57.768Z"
   },
   {
    "duration": 501,
    "start_time": "2022-11-22T18:06:58.068Z"
   },
   {
    "duration": 8,
    "start_time": "2022-11-22T18:06:58.668Z"
   },
   {
    "duration": 8,
    "start_time": "2022-11-22T18:06:58.818Z"
   },
   {
    "duration": 204,
    "start_time": "2022-11-22T18:06:59.642Z"
   },
   {
    "duration": 584,
    "start_time": "2022-11-22T18:07:00.829Z"
   },
   {
    "duration": 230,
    "start_time": "2022-11-22T18:07:01.416Z"
   },
   {
    "duration": 26889,
    "start_time": "2022-11-22T18:07:03.568Z"
   },
   {
    "duration": 348,
    "start_time": "2022-11-22T18:07:34.869Z"
   },
   {
    "duration": 89,
    "start_time": "2022-11-22T18:07:39.433Z"
   },
   {
    "duration": 6,
    "start_time": "2022-11-22T18:07:42.529Z"
   },
   {
    "duration": 5,
    "start_time": "2022-11-22T18:07:44.270Z"
   },
   {
    "duration": 11,
    "start_time": "2022-11-22T18:07:47.009Z"
   },
   {
    "duration": 23,
    "start_time": "2022-11-22T18:07:47.913Z"
   },
   {
    "duration": 5,
    "start_time": "2022-11-22T18:07:50.353Z"
   },
   {
    "duration": 111,
    "start_time": "2022-11-22T18:07:53.141Z"
   },
   {
    "duration": 5,
    "start_time": "2022-11-22T18:07:55.274Z"
   },
   {
    "duration": 8,
    "start_time": "2022-11-22T18:07:56.529Z"
   },
   {
    "duration": 6,
    "start_time": "2022-11-22T18:07:58.961Z"
   },
   {
    "duration": 4,
    "start_time": "2022-11-22T18:08:52.126Z"
   },
   {
    "duration": 37,
    "start_time": "2022-11-22T18:08:52.446Z"
   },
   {
    "duration": 12,
    "start_time": "2022-11-22T18:08:52.777Z"
   },
   {
    "duration": 5,
    "start_time": "2022-11-22T18:08:53.078Z"
   },
   {
    "duration": 27,
    "start_time": "2022-11-22T18:08:53.237Z"
   },
   {
    "duration": 562,
    "start_time": "2022-11-22T18:08:53.598Z"
   },
   {
    "duration": 8,
    "start_time": "2022-11-22T18:08:54.289Z"
   },
   {
    "duration": 8,
    "start_time": "2022-11-22T18:08:54.466Z"
   },
   {
    "duration": 214,
    "start_time": "2022-11-22T18:08:55.359Z"
   },
   {
    "duration": 606,
    "start_time": "2022-11-22T18:08:55.719Z"
   },
   {
    "duration": 218,
    "start_time": "2022-11-22T18:08:56.327Z"
   },
   {
    "duration": 26471,
    "start_time": "2022-11-22T18:08:56.617Z"
   },
   {
    "duration": 352,
    "start_time": "2022-11-22T18:09:23.091Z"
   },
   {
    "duration": 95,
    "start_time": "2022-11-22T18:09:23.445Z"
   },
   {
    "duration": 6,
    "start_time": "2022-11-22T18:09:23.541Z"
   },
   {
    "duration": 6,
    "start_time": "2022-11-22T18:09:23.548Z"
   },
   {
    "duration": 12,
    "start_time": "2022-11-22T18:09:32.909Z"
   },
   {
    "duration": 24,
    "start_time": "2022-11-22T18:09:35.613Z"
   },
   {
    "duration": 5,
    "start_time": "2022-11-22T18:09:36.757Z"
   },
   {
    "duration": 97,
    "start_time": "2022-11-22T18:09:36.937Z"
   },
   {
    "duration": 5,
    "start_time": "2022-11-22T18:09:39.029Z"
   },
   {
    "duration": 96,
    "start_time": "2022-11-22T18:09:40.013Z"
   },
   {
    "duration": 6,
    "start_time": "2022-11-22T18:09:42.237Z"
   },
   {
    "duration": 6,
    "start_time": "2022-11-22T18:09:45.245Z"
   },
   {
    "duration": 13,
    "start_time": "2022-11-22T18:09:51.997Z"
   },
   {
    "duration": 123,
    "start_time": "2022-11-22T18:09:53.949Z"
   },
   {
    "duration": 87,
    "start_time": "2022-11-22T18:09:56.205Z"
   }
  ],
  "kernelspec": {
   "display_name": "Python 3 (ipykernel)",
   "language": "python",
   "name": "python3"
  },
  "language_info": {
   "codemirror_mode": {
    "name": "ipython",
    "version": 3
   },
   "file_extension": ".py",
   "mimetype": "text/x-python",
   "name": "python",
   "nbconvert_exporter": "python",
   "pygments_lexer": "ipython3",
   "version": "3.9.5"
  },
  "toc": {
   "base_numbering": 1,
   "nav_menu": {},
   "number_sections": true,
   "sideBar": true,
   "skip_h1_title": true,
   "title_cell": "Table of Contents",
   "title_sidebar": "Contents",
   "toc_cell": false,
   "toc_position": {},
   "toc_section_display": true,
   "toc_window_display": false
  }
 },
 "nbformat": 4,
 "nbformat_minor": 2
}
